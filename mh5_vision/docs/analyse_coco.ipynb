{
 "cells": [
  {
   "cell_type": "markdown",
   "id": "2592dfb0",
   "metadata": {},
   "source": [
    "# Analysing COCO dataset\n",
    "\n",
    "The COCO dataset is widely used for training visual ML models. We will produce some statistics that will be used later in the defintion of the AttentionNET model that splits between identifying the focus in a picture and identifying the object in the focus.\n",
    "\n",
    "First we load the modules we will use:"
   ]
  },
  {
   "cell_type": "code",
   "execution_count": null,
   "id": "a6d56f4b",
   "metadata": {},
   "outputs": [],
   "source": [
    "%matplotlib inline\n",
    "from pycocotools.coco import COCO\n",
    "import numpy as np\n",
    "import skimage.io as io\n",
    "import matplotlib.pyplot as plt\n",
    "from matplotlib.ticker import PercentFormatter\n",
    "import pandas as pd"
   ]
  },
  {
   "cell_type": "markdown",
   "id": "4b5f14f8",
   "metadata": {},
   "source": [
    "Based on the examples from COCO gothub we will setup a directory to load the annotation data. Since this is the largest dataset we will use the training 2017 dataset and we will focus on the \"instances\" classifications. The dataset annotations are pre-downloaded in the `annotations` directory:"
   ]
  },
  {
   "cell_type": "code",
   "execution_count": null,
   "id": "af993961",
   "metadata": {},
   "outputs": [],
   "source": [
    "dataDir='.'\n",
    "dataType='train2017'\n",
    "annFile='{}/annotations/instances_{}.json'.format(dataDir,dataType)"
   ]
  },
  {
   "cell_type": "markdown",
   "id": "1402dbef",
   "metadata": {},
   "source": [
    "We now setup a COCO object to deal with the annotations data and to parse it:"
   ]
  },
  {
   "cell_type": "code",
   "execution_count": null,
   "id": "6ace812d",
   "metadata": {},
   "outputs": [],
   "source": [
    "# initialize COCO api for instance annotations\n",
    "coco=COCO(annFile)"
   ]
  },
  {
   "cell_type": "markdown",
   "id": "15c46b9e",
   "metadata": {},
   "source": [
    "We can analyse the categories from the annotations file. This is provided in the member `cats` of the `COCO` object. This is a dictionary with the key the category ID and as attributes:\n",
    "- `name`: the name of the category\n",
    "- `supercategory`: the name of the supercategory that groups more categories together\n",
    "- `id`: the ID of the category (again although is already the key of the dictionary):"
   ]
  },
  {
   "cell_type": "code",
   "execution_count": null,
   "id": "c3741f6a",
   "metadata": {
    "scrolled": true
   },
   "outputs": [],
   "source": [
    "coco.cats"
   ]
  },
  {
   "cell_type": "markdown",
   "id": "336b86ae",
   "metadata": {},
   "source": [
    "The supercategories can be shown with:"
   ]
  },
  {
   "cell_type": "code",
   "execution_count": null,
   "id": "870cbae3",
   "metadata": {},
   "outputs": [],
   "source": [
    "nms = set([cat['supercategory'] for cat in coco.cats.values()])\n",
    "print('COCO supercategories: \\n{}'.format(' '.join(nms)))"
   ]
  },
  {
   "cell_type": "markdown",
   "id": "96c3ad36",
   "metadata": {},
   "source": [
    "## Number of images\n",
    "\n",
    "Let see now how many images we have in this training set. We can use the member `imgs` of the `COCO` object:"
   ]
  },
  {
   "cell_type": "code",
   "execution_count": null,
   "id": "882668c1",
   "metadata": {},
   "outputs": [],
   "source": [
    "len(coco.imgs)"
   ]
  },
  {
   "cell_type": "markdown",
   "id": "d1c750d0",
   "metadata": {},
   "source": [
    "So we have 118,287 images in this dataset. We are interested to see how many annotations (individual objects) are for each image and how they are distributed.\n",
    "\n",
    "The `imgs` is a dictionary that uses the picture ID as the key and contains the following information about each image:"
   ]
  },
  {
   "cell_type": "code",
   "execution_count": null,
   "id": "a72a8733",
   "metadata": {},
   "outputs": [],
   "source": [
    "coco.imgs[391895]"
   ]
  },
  {
   "cell_type": "markdown",
   "id": "ccda7bf5",
   "metadata": {},
   "source": [
    "From this list we are interested at this time by the size of the picture (`height` and `width`). Later, when training the models we will put in place we will also have to download the images using the `coco_url` provided so that we can do multiple passes on the dataset during training.\n",
    "\n",
    "## Annotations\n",
    "\n",
    "Additionally we have in the `anns` attibute that contains information about the picture. It is a dictionary with key the annotation `id` and then a number of informations related to that annotation:"
   ]
  },
  {
   "cell_type": "code",
   "execution_count": null,
   "id": "66e86de3",
   "metadata": {},
   "outputs": [],
   "source": [
    "coco.anns[156]"
   ]
  },
  {
   "cell_type": "markdown",
   "id": "bb30bee5",
   "metadata": {},
   "source": [
    "The interesting attributes of an annotation are the `image_id` for which that annotation was created, the `area` that represents the surrounding areas of the `segmentation` in pixels and the `bbox` that is the bounding box for the item.\n",
    "\n",
    "To get all the annotations for a given image we can use:"
   ]
  },
  {
   "cell_type": "code",
   "execution_count": null,
   "id": "ed1b8bfe",
   "metadata": {},
   "outputs": [],
   "source": [
    "an_image_id = 475546\n",
    "\n",
    "annIds = coco.getAnnIds(imgIds=an_image_id, iscrowd=None)\n",
    "print(annIds)"
   ]
  },
  {
   "cell_type": "markdown",
   "id": "f6b07df6",
   "metadata": {},
   "source": [
    "And if we want to see the details:"
   ]
  },
  {
   "cell_type": "code",
   "execution_count": null,
   "id": "bf807e13",
   "metadata": {},
   "outputs": [],
   "source": [
    "for anno in annIds:\n",
    "    print(coco.anns[anno])"
   ]
  },
  {
   "cell_type": "markdown",
   "id": "70289508",
   "metadata": {},
   "source": [
    "Let's try to have a better understanding of the annotations across the whole dataset. We will count the number of annotations for all images and then we will display a histogram:"
   ]
  },
  {
   "cell_type": "code",
   "execution_count": null,
   "id": "f7d633d8",
   "metadata": {},
   "outputs": [],
   "source": [
    "no_anno = []\n",
    "for img in coco.imgs.values():\n",
    "    ann = coco.getAnnIds(imgIds=img['id'], iscrowd=None)\n",
    "    no_anno.append(len(ann))\n",
    "\n",
    "plt.hist(no_anno, bins=50, range=(0,50), density=True)\n",
    "plt.gca().yaxis.set_major_formatter(PercentFormatter(xmax=1))\n",
    "plt.show()"
   ]
  },
  {
   "cell_type": "markdown",
   "id": "cfa7b846",
   "metadata": {},
   "source": [
    "Or in a cummulative fashion:"
   ]
  },
  {
   "cell_type": "code",
   "execution_count": null,
   "id": "434bef5a",
   "metadata": {},
   "outputs": [],
   "source": [
    "plt.hist(no_anno, bins=50, range=(0,50), density=True, cumulative=True)\n",
    "plt.gca().yaxis.set_major_formatter(PercentFormatter(xmax=1))\n",
    "plt.show()"
   ]
  },
  {
   "cell_type": "markdown",
   "id": "46c44d25",
   "metadata": {},
   "source": [
    "## Items in Images (annotations)\n",
    "\n",
    "One of the characteristics of the annotated items in a picture is that they tend to cover a significantly smaller portion of the image than the whole area of the picture. For example, for the `an_image_id` we selected earlier, if we extract all the annotations and the associated `area` and compare that with the overall area of the image we will get the following results:"
   ]
  },
  {
   "cell_type": "code",
   "execution_count": null,
   "id": "c31f48c9",
   "metadata": {
    "scrolled": true
   },
   "outputs": [],
   "source": [
    "an_img = coco.imgs[an_image_id]\n",
    "image_area = an_img['height'] * an_img['width']\n",
    "\n",
    "for anno in annIds:\n",
    "    item_categ_id = coco.anns[anno]['category_id']\n",
    "    item_area = coco.anns[anno]['area']\n",
    "    item_area_perc = item_area / image_area * 100\n",
    "    print(f\"category: {coco.cats[item_categ_id]['name']}, area: {item_area:.1f} ({item_area_perc:.2f}%)\")"
   ]
  },
  {
   "cell_type": "markdown",
   "id": "afeb9e3f",
   "metadata": {},
   "source": [
    "As you can see the majority of the items identified in the picture are less than 3% of the whole image, with only one element covering 13.3%. This is clearly visible if we display the corresponding image and the annotations:"
   ]
  },
  {
   "cell_type": "code",
   "execution_count": null,
   "id": "ade13c07",
   "metadata": {},
   "outputs": [],
   "source": [
    "I = io.imread(coco.imgs[an_image_id]['coco_url'])\n",
    "plt.imshow(I)\n",
    "plt.axis('off')\n",
    "coco.showAnns(coco.loadAnns(annIds))"
   ]
  },
  {
   "cell_type": "markdown",
   "id": "7aa7330e",
   "metadata": {},
   "source": [
    "We will perform the above calculations for each picture in the set and put the resulting data into a Panda frame for easier manipulation."
   ]
  },
  {
   "cell_type": "code",
   "execution_count": null,
   "id": "5d23b071",
   "metadata": {},
   "outputs": [],
   "source": [
    "df = pd.DataFrame(coco.anns.values(), index=coco.anns.keys())"
   ]
  },
  {
   "cell_type": "code",
   "execution_count": null,
   "id": "eaa607b8",
   "metadata": {},
   "outputs": [],
   "source": [
    "df"
   ]
  },
  {
   "cell_type": "markdown",
   "id": "eb794b82",
   "metadata": {},
   "source": [
    "Let's make sure that the numbers match the previously calculated number of annotations per image:"
   ]
  },
  {
   "cell_type": "code",
   "execution_count": null,
   "id": "16acf058",
   "metadata": {
    "scrolled": false
   },
   "outputs": [],
   "source": [
    "df[['image_id', 'id']].groupby(by=\"image_id\").count().hist(bins=50, range=(0,50))\n",
    "plt.show()"
   ]
  },
  {
   "cell_type": "markdown",
   "id": "6bc567d1",
   "metadata": {},
   "source": [
    "They seem to be the same. Let's add now the image area and the percentage of annotated item in the image:"
   ]
  },
  {
   "cell_type": "code",
   "execution_count": null,
   "id": "2bdd2641",
   "metadata": {
    "scrolled": true
   },
   "outputs": [],
   "source": [
    "df['image_height'] = df.apply(lambda x: coco.imgs[x['image_id']]['height'], axis=1)\n",
    "df['image_width'] = df.apply(lambda x: coco.imgs[x['image_id']]['width'], axis=1)\n",
    "df['image_area'] = df['image_height'] * df['image_width']\n",
    "df['anno_area_perc'] = df['area'] / df['image_area'] * 100"
   ]
  },
  {
   "cell_type": "markdown",
   "id": "2a5366e8",
   "metadata": {},
   "source": [
    "Let's see the results:"
   ]
  },
  {
   "cell_type": "code",
   "execution_count": null,
   "id": "1a7a1589",
   "metadata": {},
   "outputs": [],
   "source": [
    "df"
   ]
  },
  {
   "cell_type": "markdown",
   "id": "cde71d95",
   "metadata": {},
   "source": [
    "And let's plot a histogram with these percentages:"
   ]
  },
  {
   "cell_type": "code",
   "execution_count": null,
   "id": "d74fb26c",
   "metadata": {},
   "outputs": [],
   "source": [
    "df['anno_area_perc'].hist(bins=50, range=(0,100))\n",
    "plt.gca().set_ylabel('Number of annotations')\n",
    "plt.gca().set_xlabel('Annotation area as a % of total image area')\n",
    "plt.show()"
   ]
  },
  {
   "cell_type": "markdown",
   "id": "2b52379f",
   "metadata": {},
   "source": [
    "As expected the vast majority is bellow 10%. Let's focus on that part:"
   ]
  },
  {
   "cell_type": "code",
   "execution_count": null,
   "id": "014e2e7e",
   "metadata": {},
   "outputs": [],
   "source": [
    "df['anno_area_perc'].hist(bins=50, range=(0,10))\n",
    "plt.gca().set_ylabel('Number of annotations')\n",
    "plt.gca().set_xlabel('Annotation area as a % of total image area')\n",
    "plt.title('Number of annotations by % of total image area\\nclipped to 10%')\n",
    "plt.show()"
   ]
  },
  {
   "cell_type": "markdown",
   "id": "de687108",
   "metadata": {},
   "source": [
    "A cumulative histogram with % of all annotation will give an even better perpective:"
   ]
  },
  {
   "cell_type": "code",
   "execution_count": null,
   "id": "3f687a06",
   "metadata": {},
   "outputs": [],
   "source": [
    "df['anno_area_perc'].hist(bins=50, range=(0,100), density=True, cumulative=True)\n",
    "plt.gca().set_ylabel('Number of annotations')\n",
    "plt.gca().set_xlabel('Annotation area as a % of total image area')\n",
    "plt.gca().yaxis.set_major_formatter(PercentFormatter(xmax=1))\n",
    "plt.xlim(left=0, right=40)\n",
    "plt.title('Cumulative annotations by % of total image area')\n",
    "plt.show()"
   ]
  },
  {
   "cell_type": "code",
   "execution_count": null,
   "id": "8690df2b",
   "metadata": {
    "scrolled": true
   },
   "outputs": [],
   "source": [
    "dir(coco)"
   ]
  },
  {
   "cell_type": "markdown",
   "id": "7ad151c5",
   "metadata": {},
   "source": [
    "## Biography\n",
    "\n",
    "[1]T.-Y. Lin et al., ‘Microsoft COCO: Common Objects in Context’, arXiv:1405.0312 [cs], Feb. 2015, Accessed: May 05, 2021. [Online]. Available: http://arxiv.org/abs/1405.0312.\n"
   ]
  },
  {
   "cell_type": "code",
   "execution_count": null,
   "id": "203e5fa2",
   "metadata": {},
   "outputs": [],
   "source": []
  }
 ],
 "metadata": {
  "kernelspec": {
   "display_name": "vis",
   "language": "python",
   "name": "vis"
  },
  "language_info": {
   "codemirror_mode": {
    "name": "ipython",
    "version": 3
   },
   "file_extension": ".py",
   "mimetype": "text/x-python",
   "name": "python",
   "nbconvert_exporter": "python",
   "pygments_lexer": "ipython3",
   "version": "3.8.8"
  }
 },
 "nbformat": 4,
 "nbformat_minor": 5
}